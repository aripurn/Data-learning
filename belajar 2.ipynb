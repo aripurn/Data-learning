{
 "cells": [
  {
   "cell_type": "markdown",
   "metadata": {},
   "source": [
    "# Function\n",
    "menyimpan blok kode menjadi satu kesatuan, lalu diberi nama, dan bisa diberi data custom parameter/argumen"
   ]
  },
  {
   "cell_type": "code",
   "execution_count": 1,
   "metadata": {},
   "outputs": [],
   "source": [
    "def cekTinggi(tinggi):\n",
    "    \n",
    "    if (tinggi >= 100):\n",
    "        print(\"tinggi\", tinggi, \"cm. boleh naik bom bom car\")\n",
    "    else:\n",
    "        print(tinggi, \"cm, kurang tinggi untuk naik bom bom car\")"
   ]
  },
  {
   "cell_type": "code",
   "execution_count": 2,
   "metadata": {},
   "outputs": [
    {
     "name": "stdout",
     "output_type": "stream",
     "text": [
      "90 cm, kurang tinggi untuk naik bom bom car\n",
      "95 cm, kurang tinggi untuk naik bom bom car\n",
      "tinggi 100 cm. boleh naik bom bom car\n"
     ]
    }
   ],
   "source": [
    "cekTinggi(90)\n",
    "cekTinggi(95)\n",
    "cekTinggi(100)"
   ]
  },
  {
   "cell_type": "code",
   "execution_count": 3,
   "metadata": {},
   "outputs": [
    {
     "name": "stdout",
     "output_type": "stream",
     "text": [
      "90 cm, kurang tinggi untuk naik bom bom car\n",
      "tinggi 100 cm. boleh naik bom bom car\n",
      "tinggi 110 cm. boleh naik bom bom car\n",
      "tinggi 120 cm. boleh naik bom bom car\n",
      "tinggi 130 cm. boleh naik bom bom car\n",
      "tinggi 140 cm. boleh naik bom bom car\n",
      "tinggi 150 cm. boleh naik bom bom car\n"
     ]
    }
   ],
   "source": [
    "for i in range(90,160,10):\n",
    "    cekTinggi(i)"
   ]
  },
  {
   "cell_type": "markdown",
   "metadata": {},
   "source": [
    "`cekTinggi()`   \n",
    "akan membuat error karena ada satu argumen required yang tidak kita berikan"
   ]
  },
  {
   "cell_type": "markdown",
   "metadata": {},
   "source": [
    "## lebih dari satu argumen/parameter"
   ]
  },
  {
   "cell_type": "code",
   "execution_count": 4,
   "metadata": {},
   "outputs": [],
   "source": [
    "def menyapa():\n",
    "    print(\"halo\")"
   ]
  },
  {
   "cell_type": "code",
   "execution_count": 5,
   "metadata": {},
   "outputs": [
    {
     "name": "stdout",
     "output_type": "stream",
     "text": [
      "halo\n",
      "halo\n"
     ]
    }
   ],
   "source": [
    "menyapa()\n",
    "menyapa()"
   ]
  },
  {
   "cell_type": "code",
   "execution_count": 6,
   "metadata": {},
   "outputs": [],
   "source": [
    "def menyapa(nama, waktu):\n",
    "    print(\"selamat \" + waktu + \", \" + nama)"
   ]
  },
  {
   "cell_type": "code",
   "execution_count": 7,
   "metadata": {},
   "outputs": [
    {
     "name": "stdout",
     "output_type": "stream",
     "text": [
      "selamat pagi, andhika\n"
     ]
    }
   ],
   "source": [
    "menyapa(\"andhika\", \"pagi\")"
   ]
  },
  {
   "cell_type": "markdown",
   "metadata": {},
   "source": [
    "## pass by reference vs pass by value"
   ]
  },
  {
   "cell_type": "markdown",
   "metadata": {},
   "source": [
    "## tipe argumen function\n",
    "- required\n",
    "- named (bisa juga required dan named)\n",
    "- default (bisa juga default dan named)\n",
    "- variable-length, jumlah argumennya bebas"
   ]
  },
  {
   "cell_type": "code",
   "execution_count": 8,
   "metadata": {},
   "outputs": [],
   "source": [
    "# required\n",
    "def menyapa(nama, waktu):\n",
    "    print(\"selamat \" + waktu + \", \" + nama)\n",
    "    \n",
    "# menyapa() # kalau tidak diberi argumen yang sama persis jumlahnya dengan yang diminta, akan error"
   ]
  },
  {
   "cell_type": "code",
   "execution_count": 9,
   "metadata": {},
   "outputs": [
    {
     "name": "stdout",
     "output_type": "stream",
     "text": [
      "selamat pagi, budi\n"
     ]
    }
   ],
   "source": [
    "# required dan named\n",
    "def menyapa(nama, waktu):\n",
    "    print(\"selamat \" + waktu + \", \" + nama)\n",
    "    \n",
    "menyapa(waktu = \"pagi\", nama = \"budi\") # saat memanggil nama argumen untuk diberi value nya"
   ]
  },
  {
   "cell_type": "code",
   "execution_count": 10,
   "metadata": {},
   "outputs": [
    {
     "name": "stdout",
     "output_type": "stream",
     "text": [
      "selamat pagi, pak/bu\n"
     ]
    }
   ],
   "source": [
    "# default\n",
    "def menyapa(nama = \"pak/bu\", waktu = \"pagi\"):\n",
    "    print(\"selamat \" + waktu + \", \" + nama)\n",
    "\n",
    "menyapa()"
   ]
  },
  {
   "cell_type": "code",
   "execution_count": 11,
   "metadata": {},
   "outputs": [
    {
     "name": "stdout",
     "output_type": "stream",
     "text": [
      "selamat sore, pak/bu\n"
     ]
    }
   ],
   "source": [
    "# default dan named\n",
    "menyapa(waktu=\"sore\")"
   ]
  },
  {
   "cell_type": "code",
   "execution_count": 12,
   "metadata": {},
   "outputs": [
    {
     "name": "stdout",
     "output_type": "stream",
     "text": [
      "selamat malam, andi\n",
      "selamat pagi, budi\n",
      "selamat sore, cindy\n"
     ]
    }
   ],
   "source": [
    "# 1 yang default, 1 yang required\n",
    "def menyapa(nama, waktu=\"pagi\"):\n",
    "    print(\"selamat \" + waktu + \", \" + nama)\n",
    "    \n",
    "menyapa(\"andi\", \"malam\")\n",
    "menyapa(\"budi\")\n",
    "menyapa(waktu=\"sore\", nama=\"cindy\")"
   ]
  },
  {
   "cell_type": "code",
   "execution_count": 13,
   "metadata": {},
   "outputs": [],
   "source": [
    "# variable length argumen, atau argumen yang jumlahnya bebas\n",
    "def menyapa(*nama, waktu=\"pagi\"):\n",
    "    print(nama)\n",
    "    for n in nama:\n",
    "        print(\"selamat \" + waktu + \", \" + n)"
   ]
  },
  {
   "cell_type": "code",
   "execution_count": 14,
   "metadata": {},
   "outputs": [
    {
     "name": "stdout",
     "output_type": "stream",
     "text": [
      "()\n"
     ]
    }
   ],
   "source": [
    "menyapa()"
   ]
  },
  {
   "cell_type": "code",
   "execution_count": 15,
   "metadata": {},
   "outputs": [
    {
     "name": "stdout",
     "output_type": "stream",
     "text": [
      "('andi',)\n",
      "selamat pagi, andi\n"
     ]
    }
   ],
   "source": [
    "menyapa(\"andi\")"
   ]
  },
  {
   "cell_type": "code",
   "execution_count": 16,
   "metadata": {},
   "outputs": [
    {
     "name": "stdout",
     "output_type": "stream",
     "text": [
      "('andi', 'budi', 'cindy')\n",
      "selamat pagi, andi\n",
      "selamat pagi, budi\n",
      "selamat pagi, cindy\n"
     ]
    }
   ],
   "source": [
    "menyapa(\"andi\", \"budi\", \"cindy\")"
   ]
  },
  {
   "cell_type": "code",
   "execution_count": 17,
   "metadata": {},
   "outputs": [
    {
     "name": "stdout",
     "output_type": "stream",
     "text": [
      "('andi', 'budi', 'cindy')\n",
      "selamat sore, andi\n",
      "selamat sore, budi\n",
      "selamat sore, cindy\n"
     ]
    }
   ],
   "source": [
    "menyapa(\"andi\", \"budi\", \"cindy\", waktu=\"sore\")"
   ]
  },
  {
   "cell_type": "markdown",
   "metadata": {},
   "source": [
    "## return\n",
    "kadang kita perlu function itu menghitung/proses lalu mengembalikan hasil hitung/proses tadi. bukan cuma langsung di print"
   ]
  },
  {
   "cell_type": "code",
   "execution_count": 18,
   "metadata": {},
   "outputs": [
    {
     "data": {
      "text/plain": [
       "'genap'"
      ]
     },
     "execution_count": 18,
     "metadata": {},
     "output_type": "execute_result"
    }
   ],
   "source": [
    "# membuat function untuk cek apakah angka itu ganjil atau genap\n",
    "# kita kasih 1 angka, kita dapat \"ganjil\" atau \"genap\"\n",
    "\n",
    "def cekGenap(num):\n",
    "    if (num % 2 == 0):\n",
    "        return \"genap\"\n",
    "    else:\n",
    "        return \"ganjil\"\n",
    "    \n",
    "cekGenap(10)\n",
    "cekGenap(11)\n",
    "cekGenap(12)"
   ]
  },
  {
   "cell_type": "code",
   "execution_count": 19,
   "metadata": {},
   "outputs": [
    {
     "data": {
      "text/plain": [
       "'genap'"
      ]
     },
     "execution_count": 19,
     "metadata": {},
     "output_type": "execute_result"
    }
   ],
   "source": [
    "\"genap\"\n",
    "\"ganjil\"\n",
    "\"genap\""
   ]
  },
  {
   "cell_type": "code",
   "execution_count": 20,
   "metadata": {},
   "outputs": [],
   "source": [
    "hasil = cekGenap(10) # kalau return, hasil kalkulasi function tersimpan\n",
    "# hasil = \"genap\""
   ]
  },
  {
   "cell_type": "code",
   "execution_count": 21,
   "metadata": {},
   "outputs": [
    {
     "name": "stdout",
     "output_type": "stream",
     "text": [
      "genap\n"
     ]
    }
   ],
   "source": [
    "print(hasil)"
   ]
  },
  {
   "cell_type": "code",
   "execution_count": 22,
   "metadata": {},
   "outputs": [],
   "source": [
    "list_mobil = [10,56,89,78]\n",
    "message = \"mobil mobil barusan punya plat: \"\n",
    "for plat in list_mobil:\n",
    "    hasil = cekGenap(plat)\n",
    "    message = message + hasil + \", \""
   ]
  },
  {
   "cell_type": "code",
   "execution_count": 23,
   "metadata": {},
   "outputs": [
    {
     "name": "stdout",
     "output_type": "stream",
     "text": [
      "mobil mobil barusan punya plat: genap, genap, ganjil, genap, \n"
     ]
    }
   ],
   "source": [
    "print(message)"
   ]
  },
  {
   "cell_type": "code",
   "execution_count": 24,
   "metadata": {},
   "outputs": [],
   "source": [
    "def cekGenap(num):\n",
    "    if (num % 2 == 0):\n",
    "        print(\"genap\")\n",
    "    else:\n",
    "        print(\"ganjil\")"
   ]
  },
  {
   "cell_type": "code",
   "execution_count": 25,
   "metadata": {},
   "outputs": [
    {
     "name": "stdout",
     "output_type": "stream",
     "text": [
      "genap\n"
     ]
    }
   ],
   "source": [
    "hasil = cekGenap(10) # kalau print, hasil kalkulasi dari function tidak tersimpan\n",
    "# hasil = "
   ]
  },
  {
   "cell_type": "code",
   "execution_count": 26,
   "metadata": {},
   "outputs": [
    {
     "name": "stdout",
     "output_type": "stream",
     "text": [
      "None\n"
     ]
    }
   ],
   "source": [
    "print(hasil)"
   ]
  },
  {
   "cell_type": "markdown",
   "metadata": {},
   "source": [
    "## scope of variable"
   ]
  },
  {
   "cell_type": "code",
   "execution_count": 27,
   "metadata": {},
   "outputs": [
    {
     "name": "stdout",
     "output_type": "stream",
     "text": [
      "25\n"
     ]
    }
   ],
   "source": [
    "total = 150 # global variable\n",
    "\n",
    "def hitung(angka, total): # variable milik funciton, local, argumen, parameter\n",
    "    return total + angka\n",
    "\n",
    "hasil = hitung(5, 20)\n",
    "print(hasil)"
   ]
  },
  {
   "cell_type": "code",
   "execution_count": 28,
   "metadata": {},
   "outputs": [
    {
     "name": "stdout",
     "output_type": "stream",
     "text": [
      "155\n",
      "150\n"
     ]
    }
   ],
   "source": [
    "total = 150 # global variable\n",
    "\n",
    "def hitung(angka): # variable milik funciton, local, argumen, parameter\n",
    "    return total + angka\n",
    "\n",
    "hasil = hitung(5)\n",
    "print(hasil)\n",
    "print(total)"
   ]
  },
  {
   "cell_type": "markdown",
   "metadata": {},
   "source": [
    "# Class\n",
    "tipe data"
   ]
  },
  {
   "cell_type": "code",
   "execution_count": 29,
   "metadata": {},
   "outputs": [
    {
     "name": "stdout",
     "output_type": "stream",
     "text": [
      "<class 'int'>\n",
      "<class 'float'>\n",
      "<class 'str'>\n",
      "<class 'bool'>\n",
      "<class 'list'>\n",
      "<class 'dict'>\n"
     ]
    }
   ],
   "source": [
    "print(type(100))\n",
    "print(type(10.5))\n",
    "print(type(\"str\"))\n",
    "print(type(False))\n",
    "print(type([]))\n",
    "print(type({}))"
   ]
  },
  {
   "cell_type": "markdown",
   "metadata": {},
   "source": [
    "# Module\n",
    "mengumpulkan variable dan function yang mau kita pakai berulang kali, ke dalam sebuah file .py"
   ]
  },
  {
   "cell_type": "code",
   "execution_count": 30,
   "metadata": {},
   "outputs": [],
   "source": [
    "# untuk dipakai, kita perlu import module nya\n",
    "import test"
   ]
  },
  {
   "cell_type": "code",
   "execution_count": 31,
   "metadata": {},
   "outputs": [
    {
     "ename": "AttributeError",
     "evalue": "module 'test' has no attribute 'nilai_kelulusan'",
     "output_type": "error",
     "traceback": [
      "\u001b[1;31m---------------------------------------------------------------------------\u001b[0m",
      "\u001b[1;31mAttributeError\u001b[0m                            Traceback (most recent call last)",
      "\u001b[1;32mc:\\Users\\ari\\Desktop\\uler\\sesi2.ipynb Cell 40\u001b[0m in \u001b[0;36m<cell line: 2>\u001b[1;34m()\u001b[0m\n\u001b[0;32m      <a href='vscode-notebook-cell:/c%3A/Users/ari/Desktop/uler/sesi2.ipynb#X54sZmlsZQ%3D%3D?line=0'>1</a>\u001b[0m \u001b[39m# variable dalam module bisa kita baca\u001b[39;00m\n\u001b[1;32m----> <a href='vscode-notebook-cell:/c%3A/Users/ari/Desktop/uler/sesi2.ipynb#X54sZmlsZQ%3D%3D?line=1'>2</a>\u001b[0m \u001b[39mprint\u001b[39m(test\u001b[39m.\u001b[39;49mnilai_kelulusan)\n",
      "\u001b[1;31mAttributeError\u001b[0m: module 'test' has no attribute 'nilai_kelulusan'"
     ]
    }
   ],
   "source": [
    "# variable dalam module bisa kita baca\n",
    "print(test.nilai_kelulusan)"
   ]
  },
  {
   "cell_type": "code",
   "execution_count": null,
   "metadata": {},
   "outputs": [
    {
     "name": "stdout",
     "output_type": "stream",
     "text": [
      "Lulus\n"
     ]
    }
   ],
   "source": [
    "# function dalam module bisa kita gunakan\n",
    "hasil = test.cekLulus(90, 6)\n",
    "print(hasil)"
   ]
  },
  {
   "cell_type": "code",
   "execution_count": null,
   "metadata": {},
   "outputs": [],
   "source": [
    "# import bisa sebagian saja\n",
    "from makanan import fav"
   ]
  },
  {
   "cell_type": "code",
   "execution_count": null,
   "metadata": {},
   "outputs": [
    {
     "data": {
      "text/plain": [
       "['nasi goreng', 'indomie', 'popmie']"
      ]
     },
     "execution_count": 5,
     "metadata": {},
     "output_type": "execute_result"
    }
   ],
   "source": [
    "fav"
   ]
  },
  {
   "cell_type": "code",
   "execution_count": null,
   "metadata": {},
   "outputs": [],
   "source": [
    "# import sebagian lalu ganti nama\n",
    "from makanan import makan as eat"
   ]
  },
  {
   "cell_type": "code",
   "execution_count": null,
   "metadata": {},
   "outputs": [
    {
     "name": "stdout",
     "output_type": "stream",
     "text": [
      "makan roti\n"
     ]
    }
   ],
   "source": [
    "eat(\"roti\")"
   ]
  },
  {
   "cell_type": "code",
   "execution_count": null,
   "metadata": {},
   "outputs": [
    {
     "name": "stdout",
     "output_type": "stream",
     "text": [
      "makan Mie Ayam\n"
     ]
    }
   ],
   "source": [
    "eat(\"Mie Ayam\")"
   ]
  },
  {
   "cell_type": "code",
   "execution_count": null,
   "metadata": {},
   "outputs": [],
   "source": [
    "# import seluruh module lalu ganti nama\n",
    "import makanan as food"
   ]
  },
  {
   "cell_type": "code",
   "execution_count": null,
   "metadata": {},
   "outputs": [
    {
     "data": {
      "text/plain": [
       "['pare', 'katuk', 'ikan']"
      ]
     },
     "execution_count": 10,
     "metadata": {},
     "output_type": "execute_result"
    }
   ],
   "source": [
    "food.dislike"
   ]
  },
  {
   "cell_type": "code",
   "execution_count": null,
   "metadata": {},
   "outputs": [
    {
     "name": "stdout",
     "output_type": "stream",
     "text": [
      "tidak suka makan ikan\n"
     ]
    }
   ],
   "source": [
    "food.makan(\"ikan\")"
   ]
  },
  {
   "cell_type": "code",
   "execution_count": null,
   "metadata": {},
   "outputs": [],
   "source": [
    "# import semua bagian module nya saja\n",
    "from test import *"
   ]
  },
  {
   "cell_type": "code",
   "execution_count": null,
   "metadata": {},
   "outputs": [
    {
     "name": "stdout",
     "output_type": "stream",
     "text": [
      "10 sudah disimpan. list_nilai: [10]\n"
     ]
    }
   ],
   "source": [
    "simpanNilai(10)"
   ]
  },
  {
   "cell_type": "code",
   "execution_count": null,
   "metadata": {},
   "outputs": [
    {
     "name": "stdout",
     "output_type": "stream",
     "text": [
      "50 sudah disimpan. list_nilai: [10, 50]\n"
     ]
    }
   ],
   "source": [
    "simpanNilai(50)"
   ]
  },
  {
   "cell_type": "code",
   "execution_count": null,
   "metadata": {},
   "outputs": [
    {
     "data": {
      "text/plain": [
       "[10, 50]"
      ]
     },
     "execution_count": 15,
     "metadata": {},
     "output_type": "execute_result"
    }
   ],
   "source": [
    "list_nilai"
   ]
  },
  {
   "cell_type": "markdown",
   "metadata": {},
   "source": [
    "## import module buatan python atau orang lain\n",
    "apakah bisa import module yang bukan kita buat sendiri? bisa\n",
    "\n",
    "kita belajar dulu import module dia cari file \".py\" dari folder mana saja di komputer kita"
   ]
  },
  {
   "cell_type": "code",
   "execution_count": null,
   "metadata": {},
   "outputs": [
    {
     "data": {
      "text/plain": [
       "['c:\\\\Users\\\\aripo\\\\Desktop\\\\pytn',\n",
       " 'c:\\\\Users\\\\aripo\\\\.vscode\\\\extensions\\\\ms-toolsai.jupyter-2021.9.1101343141\\\\pythonFiles',\n",
       " 'c:\\\\Users\\\\aripo\\\\.vscode\\\\extensions\\\\ms-toolsai.jupyter-2021.9.1101343141\\\\pythonFiles\\\\lib\\\\python',\n",
       " 'C:\\\\Users\\\\aripo\\\\anaconda3\\\\python38.zip',\n",
       " 'C:\\\\Users\\\\aripo\\\\anaconda3\\\\DLLs',\n",
       " 'C:\\\\Users\\\\aripo\\\\anaconda3\\\\lib',\n",
       " 'C:\\\\Users\\\\aripo\\\\anaconda3',\n",
       " '',\n",
       " 'C:\\\\Users\\\\aripo\\\\anaconda3\\\\lib\\\\site-packages',\n",
       " 'C:\\\\Users\\\\aripo\\\\anaconda3\\\\lib\\\\site-packages\\\\locket-0.2.1-py3.8.egg',\n",
       " 'C:\\\\Users\\\\aripo\\\\anaconda3\\\\lib\\\\site-packages\\\\win32',\n",
       " 'C:\\\\Users\\\\aripo\\\\anaconda3\\\\lib\\\\site-packages\\\\win32\\\\lib',\n",
       " 'C:\\\\Users\\\\aripo\\\\anaconda3\\\\lib\\\\site-packages\\\\Pythonwin',\n",
       " 'C:\\\\Users\\\\aripo\\\\anaconda3\\\\lib\\\\site-packages\\\\IPython\\\\extensions',\n",
       " 'C:\\\\Users\\\\aripo\\\\.ipython']"
      ]
     },
     "execution_count": 16,
     "metadata": {},
     "output_type": "execute_result"
    }
   ],
   "source": [
    "# module sys, variable path dalam module sys adalah list berisi semua folder tempat kita cari \".py\" untuk di import\n",
    "import sys\n",
    "sys.path"
   ]
  },
  {
   "cell_type": "markdown",
   "metadata": {},
   "source": [
    "Untuk pakai module milik orang lain, kita bisa cek module apa saja yang tersedia di https://pypi.org/   \n",
    "kita bisa download/install module tersebut sebelum kita import\n",
    "\n",
    "*note* ada beberapa module milik orang lain yang sudah secara otomatis di install kan oleh anaconda/vscode"
   ]
  },
  {
   "cell_type": "code",
   "execution_count": null,
   "metadata": {},
   "outputs": [
    {
     "name": "stdout",
     "output_type": "stream",
     "text": [
      "Requirement already satisfied: requests in c:\\users\\aripo\\anaconda3\\lib\\site-packages (2.25.1)\n",
      "Requirement already satisfied: idna<3,>=2.5 in c:\\users\\aripo\\anaconda3\\lib\\site-packages (from requests) (2.10)\n",
      "Requirement already satisfied: certifi>=2017.4.17 in c:\\users\\aripo\\anaconda3\\lib\\site-packages (from requests) (2020.12.5)\n",
      "Requirement already satisfied: urllib3<1.27,>=1.21.1 in c:\\users\\aripo\\anaconda3\\lib\\site-packages (from requests) (1.26.4)\n",
      "Requirement already satisfied: chardet<5,>=3.0.2 in c:\\users\\aripo\\anaconda3\\lib\\site-packages (from requests) (4.0.0)\n",
      "Note: you may need to restart the kernel to use updated packages.\n"
     ]
    }
   ],
   "source": [
    "pip install requests"
   ]
  },
  {
   "cell_type": "code",
   "execution_count": null,
   "metadata": {},
   "outputs": [],
   "source": [
    "import requests"
   ]
  },
  {
   "cell_type": "code",
   "execution_count": null,
   "metadata": {},
   "outputs": [
    {
     "name": "stdout",
     "output_type": "stream",
     "text": [
      "^C\n",
      "Note: you may need to restart the kernel to use updated packages.\n"
     ]
    }
   ],
   "source": [
    "pip uninstall requests"
   ]
  },
  {
   "cell_type": "markdown",
   "metadata": {},
   "source": [
    "# Namespace\n",
    "mengecek nama apa saja (variable, function, module) yang sudah kita gunakan di file ini"
   ]
  },
  {
   "cell_type": "code",
   "execution_count": null,
   "metadata": {},
   "outputs": [
    {
     "data": {
      "text/plain": [
       "['In',\n",
       " 'Out',\n",
       " '_',\n",
       " '_10',\n",
       " '_15',\n",
       " '_16',\n",
       " '_5',\n",
       " '__',\n",
       " '___',\n",
       " '__builtin__',\n",
       " '__builtins__',\n",
       " '__doc__',\n",
       " '__loader__',\n",
       " '__name__',\n",
       " '__package__',\n",
       " '__spec__',\n",
       " '_dh',\n",
       " '_exit_code',\n",
       " '_i',\n",
       " '_i1',\n",
       " '_i10',\n",
       " '_i11',\n",
       " '_i12',\n",
       " '_i13',\n",
       " '_i14',\n",
       " '_i15',\n",
       " '_i16',\n",
       " '_i17',\n",
       " '_i18',\n",
       " '_i19',\n",
       " '_i2',\n",
       " '_i20',\n",
       " '_i21',\n",
       " '_i3',\n",
       " '_i4',\n",
       " '_i5',\n",
       " '_i6',\n",
       " '_i7',\n",
       " '_i8',\n",
       " '_i9',\n",
       " '_ih',\n",
       " '_ii',\n",
       " '_iii',\n",
       " '_oh',\n",
       " 'absen_kelulusan',\n",
       " 'cekLulus',\n",
       " 'eat',\n",
       " 'exit',\n",
       " 'fav',\n",
       " 'food',\n",
       " 'get_ipython',\n",
       " 'hasil',\n",
       " 'list_nilai',\n",
       " 'nilai_kelulusan',\n",
       " 'os',\n",
       " 'quit',\n",
       " 'requests',\n",
       " 'simpanNilai',\n",
       " 'sys',\n",
       " 'test']"
      ]
     },
     "execution_count": 21,
     "metadata": {},
     "output_type": "execute_result"
    }
   ],
   "source": [
    "dir()"
   ]
  },
  {
   "cell_type": "code",
   "execution_count": null,
   "metadata": {},
   "outputs": [
    {
     "data": {
      "text/plain": [
       "True"
      ]
     },
     "execution_count": 22,
     "metadata": {},
     "output_type": "execute_result"
    }
   ],
   "source": [
    "\"quit\" in dir()"
   ]
  },
  {
   "cell_type": "code",
   "execution_count": null,
   "metadata": {},
   "outputs": [
    {
     "data": {
      "text/plain": [
       "False"
      ]
     },
     "execution_count": 23,
     "metadata": {},
     "output_type": "execute_result"
    }
   ],
   "source": [
    "\"total\" in dir()"
   ]
  },
  {
   "cell_type": "markdown",
   "metadata": {},
   "source": [
    "## perbedaan cara import\n",
    "\n",
    "cara pertama\n",
    "```python\n",
    "from test import *\n",
    "```\n",
    "kalau mau gunakan variable atau function milik test, kita bisa langsung panggi nama variable atau function nya. Misalkan dalam module test ada list_nilai, kita bisa langsung panggil\n",
    "```python\n",
    "print(list_nilai)\n",
    "```\n",
    "\n",
    "sedangkan untuk cara kedua\n",
    "```python\n",
    "import test\n",
    "```\n",
    "kalau mau gunakan variable atau function milik test, kita perlu panggil nama module nya dulu. Misalkan mau gunakan variable list_nilai yang ada dalam module test, kita pakainya\n",
    "```python\n",
    "print(test.list_nilai)\n",
    "```"
   ]
  },
  {
   "cell_type": "markdown",
   "metadata": {},
   "source": [
    "## reload module\n",
    "jika kita sudah import module, lalu kita edit file module nya, dan import ulang. python itu tidak benaran import ulang. dia mau hemat memori jadi module yang sudah pernah di import, tidak dia import ulang.\n",
    "\n",
    "untuk melihat perubahan, kita perlu reload import module nya"
   ]
  },
  {
   "cell_type": "code",
   "execution_count": null,
   "metadata": {},
   "outputs": [
    {
     "data": {
      "text/plain": [
       "['apel', 'jeruk', 'mangga', 'semangka']"
      ]
     },
     "execution_count": 24,
     "metadata": {},
     "output_type": "execute_result"
    }
   ],
   "source": [
    "food.buah"
   ]
  },
  {
   "cell_type": "code",
   "execution_count": null,
   "metadata": {},
   "outputs": [],
   "source": [
    "import makanan as food"
   ]
  },
  {
   "cell_type": "code",
   "execution_count": null,
   "metadata": {},
   "outputs": [
    {
     "data": {
      "text/plain": [
       "<module 'makanan' from 'c:\\\\Users\\\\aripo\\\\Desktop\\\\pytn\\\\makanan.py'>"
      ]
     },
     "execution_count": 26,
     "metadata": {},
     "output_type": "execute_result"
    }
   ],
   "source": [
    "import importlib\n",
    "importlib.reload(food)"
   ]
  },
  {
   "cell_type": "markdown",
   "metadata": {},
   "source": [
    "# Package\n",
    "kumpulan module dimasukkan ke dalam satu folder. berikut tiga cara import module/ bagian dari module dari sebuah package."
   ]
  },
  {
   "cell_type": "code",
   "execution_count": null,
   "metadata": {},
   "outputs": [
    {
     "ename": "ModuleNotFoundError",
     "evalue": "No module named 'pkg.mod'",
     "output_type": "error",
     "traceback": [
      "\u001b[1;31m---------------------------------------------------------------------------\u001b[0m",
      "\u001b[1;31mModuleNotFoundError\u001b[0m                       Traceback (most recent call last)",
      "\u001b[1;32m<ipython-input-50-9ea951bc9af4>\u001b[0m in \u001b[0;36m<module>\u001b[1;34m\u001b[0m\n\u001b[0;32m      1\u001b[0m \u001b[1;31m# cara import module mod dalam package pkg\u001b[0m\u001b[1;33m\u001b[0m\u001b[1;33m\u001b[0m\u001b[1;33m\u001b[0m\u001b[0m\n\u001b[1;32m----> 2\u001b[1;33m \u001b[1;32mimport\u001b[0m \u001b[0mpkg\u001b[0m\u001b[1;33m.\u001b[0m\u001b[0mmod\u001b[0m\u001b[1;33m\u001b[0m\u001b[1;33m\u001b[0m\u001b[0m\n\u001b[0m",
      "\u001b[1;31mModuleNotFoundError\u001b[0m: No module named 'pkg.mod'"
     ]
    }
   ],
   "source": [
    "# cara import module mod dalam package pkg\n",
    "import pkg.mod\n"
   ]
  }
 ],
 "metadata": {
  "kernelspec": {
   "display_name": "Python 3",
   "language": "python",
   "name": "python3"
  },
  "language_info": {
   "codemirror_mode": {
    "name": "ipython",
    "version": 3
   },
   "file_extension": ".py",
   "mimetype": "text/x-python",
   "name": "python",
   "nbconvert_exporter": "python",
   "pygments_lexer": "ipython3",
   "version": "3.10.4"
  },
  "orig_nbformat": 4,
  "vscode": {
   "interpreter": {
    "hash": "4748ebf5432611de489c3fe5bb8bf4b3f26d2b619de4366a5c5abe0739cf83cb"
   }
  }
 },
 "nbformat": 4,
 "nbformat_minor": 2
}
