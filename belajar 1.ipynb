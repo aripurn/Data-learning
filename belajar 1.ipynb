{
 "cells": [
  {
   "cell_type": "code",
   "execution_count": 1,
   "metadata": {},
   "outputs": [
    {
     "name": "stdout",
     "output_type": "stream",
     "text": [
      "hello word\n"
     ]
    }
   ],
   "source": [
    "print(\"hello word\");\n"
   ]
  },
  {
   "cell_type": "code",
   "execution_count": 2,
   "metadata": {},
   "outputs": [
    {
     "data": {
      "text/plain": [
       "234"
      ]
     },
     "execution_count": 2,
     "metadata": {},
     "output_type": "execute_result"
    }
   ],
   "source": [
    "234"
   ]
  },
  {
   "cell_type": "code",
   "execution_count": 3,
   "metadata": {},
   "outputs": [
    {
     "name": "stdout",
     "output_type": "stream",
     "text": [
      "hello\n"
     ]
    }
   ],
   "source": [
    "print(\"hello\")"
   ]
  },
  {
   "cell_type": "markdown",
   "metadata": {},
   "source": [
    "# Python Data Types\n",
    "- integer\n",
    "- float\n",
    "- string\n",
    "- boolean\n",
    "- list\n",
    "- tuple\n",
    "- dictionary"
   ]
  },
  {
   "cell_type": "code",
   "execution_count": 4,
   "metadata": {},
   "outputs": [
    {
     "name": "stdout",
     "output_type": "stream",
     "text": [
      "345\n",
      "<class 'int'>\n"
     ]
    }
   ],
   "source": [
    "# integer - bilangan bulat\n",
    "print(345)\n",
    "print(type(345))\n"
   ]
  },
  {
   "cell_type": "code",
   "execution_count": 5,
   "metadata": {},
   "outputs": [
    {
     "name": "stdout",
     "output_type": "stream",
     "text": [
      "14.5\n",
      "<class 'float'>\n"
     ]
    }
   ],
   "source": [
    "# float - angka desimal\n",
    "print(14.5)\n",
    "print(type(14.5))"
   ]
  },
  {
   "cell_type": "code",
   "execution_count": 6,
   "metadata": {},
   "outputs": [
    {
     "name": "stdout",
     "output_type": "stream",
     "text": [
      "hi\n",
      "<class 'str'>\n"
     ]
    }
   ],
   "source": [
    "# String - Text yang dikutip\n",
    "print(\"hi\")\n",
    "print(type(\"hi\"))"
   ]
  },
  {
   "cell_type": "code",
   "execution_count": 7,
   "metadata": {},
   "outputs": [
    {
     "name": "stdout",
     "output_type": "stream",
     "text": [
      "True\n",
      "False\n",
      "<class 'bool'>\n",
      "<class 'bool'>\n"
     ]
    }
   ],
   "source": [
    "# Boolean - True atau False\n",
    "print(True)\n",
    "print(False)\n",
    "print(type(True))\n",
    "print(type(False))"
   ]
  },
  {
   "cell_type": "code",
   "execution_count": 8,
   "metadata": {},
   "outputs": [
    {
     "name": "stdout",
     "output_type": "stream",
     "text": [
      "14.5\n",
      "<class 'str'>\n",
      "14\n",
      "<class 'int'>\n",
      "True\n",
      "<class 'bool'>\n"
     ]
    }
   ],
   "source": [
    "# ubah float jadi tipe data lain\n",
    "print(str(14.5))\n",
    "print(type(str(14.5)))\n",
    "\n",
    "print(int(14.5))\n",
    "print(type(int(14.5)))\n",
    "\n",
    "print(bool(14.5))\n",
    "print(type(bool(14.5)))"
   ]
  },
  {
   "cell_type": "code",
   "execution_count": 9,
   "metadata": {},
   "outputs": [
    {
     "name": "stdout",
     "output_type": "stream",
     "text": [
      "250.0\n",
      "<class 'float'>\n"
     ]
    }
   ],
   "source": [
    "# ubah int jadi float\n",
    "print(float(250))\n",
    "print(type(float(250)))"
   ]
  },
  {
   "cell_type": "code",
   "execution_count": 10,
   "metadata": {},
   "outputs": [
    {
     "name": "stdout",
     "output_type": "stream",
     "text": [
      "\n",
      "False\n",
      "0\n",
      "False\n"
     ]
    }
   ],
   "source": [
    "# ubah jadi boolean\n",
    "print(\"\")\n",
    "print(bool(\"\"))\n",
    "\n",
    "print(0)\n",
    "print(bool(0))"
   ]
  },
  {
   "cell_type": "code",
   "execution_count": 11,
   "metadata": {},
   "outputs": [
    {
     "name": "stdout",
     "output_type": "stream",
     "text": [
      "1e-06\n",
      "True\n"
     ]
    }
   ],
   "source": [
    "print(0.000001)\n",
    "print(bool(0.000001))"
   ]
  },
  {
   "cell_type": "markdown",
   "metadata": {},
   "source": [
    "# Variable Assignment\n",
    "memberikan nama untuk bisa manggil datanya\n",
    "\n",
    "variable - nama yang kita berikan   \n",
    "variable assignment - nama yg tadi dibuat kita kasih, \"assign\" datanya"
   ]
  },
  {
   "cell_type": "code",
   "execution_count": 12,
   "metadata": {},
   "outputs": [],
   "source": [
    "n = 900"
   ]
  },
  {
   "cell_type": "code",
   "execution_count": 13,
   "metadata": {},
   "outputs": [
    {
     "name": "stdout",
     "output_type": "stream",
     "text": [
      "900\n"
     ]
    }
   ],
   "source": [
    "print(n)"
   ]
  },
  {
   "cell_type": "code",
   "execution_count": 14,
   "metadata": {},
   "outputs": [
    {
     "name": "stdout",
     "output_type": "stream",
     "text": [
      "450.0\n"
     ]
    }
   ],
   "source": [
    "print(n/2)"
   ]
  },
  {
   "cell_type": "code",
   "execution_count": 15,
   "metadata": {},
   "outputs": [
    {
     "name": "stdout",
     "output_type": "stream",
     "text": [
      "1800\n"
     ]
    }
   ],
   "source": [
    "print(n*2)"
   ]
  },
  {
   "cell_type": "code",
   "execution_count": 16,
   "metadata": {},
   "outputs": [],
   "source": [
    "# cara assign banyak variable ke data yang sama\n",
    "a = 900\n",
    "b = 900\n",
    "c = 900\n",
    "\n",
    "a = b = c = 900"
   ]
  },
  {
   "cell_type": "code",
   "execution_count": 17,
   "metadata": {},
   "outputs": [],
   "source": [
    "n = \"apa\""
   ]
  },
  {
   "cell_type": "code",
   "execution_count": 18,
   "metadata": {},
   "outputs": [
    {
     "name": "stdout",
     "output_type": "stream",
     "text": [
      "apa\n"
     ]
    }
   ],
   "source": [
    "print(n)"
   ]
  },
  {
   "cell_type": "markdown",
   "metadata": {},
   "source": [
    "## Peraturan memberi nama variable\n",
    "- tidak boleh dimulai dengan angka\n",
    "- spasi digantikan dengan _\n",
    "- harus huruf kecil semua\n",
    "- pemilihan kata yang sopan"
   ]
  },
  {
   "cell_type": "markdown",
   "metadata": {},
   "source": [
    "## Operators in Python\n",
    "\n",
    "% - modulo, ambil sisanya saja dari sebuah pembagian   \n",
    "contohnya 5 bagi 2 adalah 2 sisa 1, modulo akan memberi kita angka 1\n",
    "\n",
    "** - pangkat, `10**2` adalah 10 pangkat 2"
   ]
  },
  {
   "cell_type": "code",
   "execution_count": 19,
   "metadata": {},
   "outputs": [
    {
     "name": "stdout",
     "output_type": "stream",
     "text": [
      "25\n",
      "15\n",
      "100\n",
      "4.0\n"
     ]
    }
   ],
   "source": [
    "a = 20\n",
    "b = 5\n",
    "\n",
    "print(a + b)\n",
    "print(a - b)\n",
    "print(a * b)\n",
    "print(a / b)"
   ]
  },
  {
   "cell_type": "code",
   "execution_count": 20,
   "metadata": {},
   "outputs": [
    {
     "name": "stdout",
     "output_type": "stream",
     "text": [
      "0\n"
     ]
    }
   ],
   "source": [
    "print(a % b)"
   ]
  },
  {
   "cell_type": "code",
   "execution_count": 21,
   "metadata": {},
   "outputs": [
    {
     "name": "stdout",
     "output_type": "stream",
     "text": [
      "3200000\n"
     ]
    }
   ],
   "source": [
    "print(a ** b)"
   ]
  },
  {
   "cell_type": "code",
   "execution_count": 22,
   "metadata": {},
   "outputs": [
    {
     "name": "stdout",
     "output_type": "stream",
     "text": [
      "1296\n"
     ]
    }
   ],
   "source": [
    "print(6**4)"
   ]
  },
  {
   "cell_type": "code",
   "execution_count": 23,
   "metadata": {},
   "outputs": [
    {
     "name": "stdout",
     "output_type": "stream",
     "text": [
      "19.0\n"
     ]
    }
   ],
   "source": [
    "print(a + b * 9 / 5 - 10)"
   ]
  },
  {
   "cell_type": "code",
   "execution_count": 24,
   "metadata": {},
   "outputs": [
    {
     "name": "stdout",
     "output_type": "stream",
     "text": [
      "halo selamat pagi \n"
     ]
    }
   ],
   "source": [
    "# string juga bisa\n",
    "kata_kata = \"halo\"\n",
    "print(kata_kata + \" selamat pagi \")"
   ]
  },
  {
   "cell_type": "code",
   "execution_count": 25,
   "metadata": {},
   "outputs": [
    {
     "name": "stdout",
     "output_type": "stream",
     "text": [
      "halohalohalo\n"
     ]
    }
   ],
   "source": [
    "print(kata_kata*3)"
   ]
  },
  {
   "cell_type": "markdown",
   "metadata": {},
   "source": [
    "## comparison\n",
    "membandingkan dua data"
   ]
  },
  {
   "cell_type": "code",
   "execution_count": 26,
   "metadata": {},
   "outputs": [
    {
     "name": "stdout",
     "output_type": "stream",
     "text": [
      "False\n",
      "True\n",
      "False\n",
      "True\n",
      "False\n",
      "True\n"
     ]
    }
   ],
   "source": [
    "a = 99\n",
    "b = 200\n",
    "\n",
    "print(a > b)\n",
    "print(a < b)\n",
    "\n",
    "print(a == b)\n",
    "print(a != b)\n",
    "\n",
    "print(a >= b)\n",
    "print(a <= b)"
   ]
  },
  {
   "cell_type": "code",
   "execution_count": 27,
   "metadata": {},
   "outputs": [
    {
     "name": "stdout",
     "output_type": "stream",
     "text": [
      "True\n"
     ]
    }
   ],
   "source": [
    "# string cek apakah ada sesuatu di dalam, kyk search\n",
    "print(\"a\" in \"Aura\")"
   ]
  },
  {
   "cell_type": "code",
   "execution_count": 28,
   "metadata": {},
   "outputs": [
    {
     "name": "stdout",
     "output_type": "stream",
     "text": [
      "True\n"
     ]
    }
   ],
   "source": [
    "print(\"a\" in kata_kata)"
   ]
  },
  {
   "cell_type": "code",
   "execution_count": 29,
   "metadata": {},
   "outputs": [
    {
     "name": "stdout",
     "output_type": "stream",
     "text": [
      "False\n"
     ]
    }
   ],
   "source": [
    "# false karena semuanya huruf kapital\n",
    "print(\"a\" in \"AMAZON\")"
   ]
  },
  {
   "cell_type": "code",
   "execution_count": 30,
   "metadata": {},
   "outputs": [
    {
     "name": "stdout",
     "output_type": "stream",
     "text": [
      "mudah dimengerti\n",
      "mudah dimengerti\n",
      "MUDAH DIMENGERTI\n",
      "Mudah dimengerti\n",
      "Mudah Dimengerti\n",
      "MUDAH DIMENGERTI\n"
     ]
    }
   ],
   "source": [
    "# kita bisa manipulasi string, ubah kapitalnya\n",
    "message = \"mudah dimengerti\"\n",
    "\n",
    "print(message)\n",
    "\n",
    "# jadi huruf kecil semua\n",
    "print(message.lower())\n",
    "\n",
    "# jadi huruf besar semua\n",
    "print(message.upper())\n",
    "\n",
    "# jadi huruf pertama saja yang besar\n",
    "print(message.capitalize())\n",
    "\n",
    "# jadi setiap kata huruf pertama saja yang besar\n",
    "print(message.title())\n",
    "\n",
    "# huruf besar jadi kecil, huruf kecil jadi besar\n",
    "print(message.swapcase())"
   ]
  },
  {
   "cell_type": "markdown",
   "metadata": {},
   "source": [
    "# List"
   ]
  },
  {
   "cell_type": "markdown",
   "metadata": {},
   "source": [
    "# Tuples\n",
    "sama kayak list, hanya:\n",
    "- bikinnya pakai ( )\n",
    "- isinya tidak bisa diganti"
   ]
  },
  {
   "cell_type": "code",
   "execution_count": 31,
   "metadata": {},
   "outputs": [],
   "source": [
    "tuple_nilai = (100,50,90)"
   ]
  },
  {
   "cell_type": "code",
   "execution_count": 32,
   "metadata": {},
   "outputs": [
    {
     "ename": "TypeError",
     "evalue": "'tuple' object does not support item assignment",
     "output_type": "error",
     "traceback": [
      "\u001b[1;31m---------------------------------------------------------------------------\u001b[0m",
      "\u001b[1;31mTypeError\u001b[0m                                 Traceback (most recent call last)",
      "\u001b[1;32mc:\\Users\\ari\\Desktop\\uler\\sesi1.ipynb Cell 39\u001b[0m in \u001b[0;36m<cell line: 1>\u001b[1;34m()\u001b[0m\n\u001b[1;32m----> <a href='vscode-notebook-cell:/c%3A/Users/ari/Desktop/uler/sesi1.ipynb#X53sZmlsZQ%3D%3D?line=0'>1</a>\u001b[0m tuple_nilai[\u001b[39m1\u001b[39m] \u001b[39m=\u001b[39m \u001b[39m95\u001b[39m\n",
      "\u001b[1;31mTypeError\u001b[0m: 'tuple' object does not support item assignment"
     ]
    }
   ],
   "source": [
    "tuple_nilai[1] = 95"
   ]
  },
  {
   "cell_type": "markdown",
   "metadata": {},
   "source": [
    "# Dictionary\n",
    "tipe data yang mencoba mendeskripsikan barang nyata ke komputer."
   ]
  },
  {
   "cell_type": "code",
   "execution_count": null,
   "metadata": {},
   "outputs": [],
   "source": [
    "mobil = {\n",
    "    \"merk\":\"mustang\",\n",
    "    \"automatic\": True,\n",
    "    \"tahun_beli\": 2025\n",
    "}"
   ]
  },
  {
   "cell_type": "code",
   "execution_count": null,
   "metadata": {},
   "outputs": [
    {
     "name": "stdout",
     "output_type": "stream",
     "text": [
      "mustang\n"
     ]
    }
   ],
   "source": [
    "print(mobil[\"merk\"])"
   ]
  },
  {
   "cell_type": "code",
   "execution_count": null,
   "metadata": {},
   "outputs": [
    {
     "name": "stdout",
     "output_type": "stream",
     "text": [
      "2025\n"
     ]
    }
   ],
   "source": [
    "print(mobil[\"tahun_beli\"])"
   ]
  },
  {
   "cell_type": "code",
   "execution_count": null,
   "metadata": {},
   "outputs": [],
   "source": [
    "mobil[\"aksesoris\"] = [\"jok\", \n",
    "                      \"knalpot\", \n",
    "                      \"ban\"]"
   ]
  },
  {
   "cell_type": "code",
   "execution_count": null,
   "metadata": {},
   "outputs": [
    {
     "name": "stdout",
     "output_type": "stream",
     "text": [
      "{'merk': 'mustang', 'automatic': True, 'tahun_beli': 2025, 'aksesoris': ['jok', 'knalpot', 'ban']}\n"
     ]
    }
   ],
   "source": [
    "print(mobil)"
   ]
  },
  {
   "cell_type": "code",
   "execution_count": null,
   "metadata": {},
   "outputs": [],
   "source": [
    "customer = {\n",
    "    \"nama\": \"Vera\",\n",
    "    \"sudah_bayar\": True,\n",
    "    \"tinggi\": 155,\n",
    "    \"makanan_kesukaan\": [\"nasi padang\",\n",
    "                        \"ayam bakar\",\n",
    "                        \"ice cream\"]\n",
    "}"
   ]
  },
  {
   "cell_type": "code",
   "execution_count": null,
   "metadata": {},
   "outputs": [
    {
     "name": "stdout",
     "output_type": "stream",
     "text": [
      "{'nama': 'Vera', 'sudah_bayar': True, 'tinggi': 155, 'makanan_kesukaan': ['nasi padang', 'ayam bakar', 'ice cream']}\n"
     ]
    }
   ],
   "source": [
    "print(customer)"
   ]
  },
  {
   "cell_type": "code",
   "execution_count": null,
   "metadata": {},
   "outputs": [
    {
     "name": "stdout",
     "output_type": "stream",
     "text": [
      "nasi padang\n"
     ]
    }
   ],
   "source": [
    "print(customer[\"makanan_kesukaan\"][0])"
   ]
  },
  {
   "cell_type": "code",
   "execution_count": null,
   "metadata": {},
   "outputs": [
    {
     "name": "stdout",
     "output_type": "stream",
     "text": [
      "{'nama': 'Vera', 'sudah_bayar': True, 'tinggi': 160, 'makanan_kesukaan': ['nasi padang', 'ayam bakar', 'ice cream']}\n"
     ]
    }
   ],
   "source": [
    "customer[\"tinggi\"] = 160\n",
    "print(customer)"
   ]
  },
  {
   "cell_type": "markdown",
   "metadata": {},
   "source": [
    "## built-in method milik dictionary"
   ]
  },
  {
   "cell_type": "code",
   "execution_count": null,
   "metadata": {},
   "outputs": [
    {
     "name": "stdout",
     "output_type": "stream",
     "text": [
      "dict_items([('nama', 'Vera'), ('sudah_bayar', True), ('tinggi', 160), ('makanan_kesukaan', ['nasi padang', 'ayam bakar', 'ice cream'])])\n"
     ]
    }
   ],
   "source": [
    "print(customer.items())\n",
    "# kumpulan key dan value (key, value) di sebuah list"
   ]
  },
  {
   "cell_type": "code",
   "execution_count": null,
   "metadata": {},
   "outputs": [
    {
     "name": "stdout",
     "output_type": "stream",
     "text": [
      "dict_keys(['nama', 'sudah_bayar', 'tinggi', 'makanan_kesukaan'])\n"
     ]
    }
   ],
   "source": [
    "print(customer.keys())\n",
    "# list isi keys dictionary nya saja"
   ]
  },
  {
   "cell_type": "code",
   "execution_count": null,
   "metadata": {},
   "outputs": [
    {
     "name": "stdout",
     "output_type": "stream",
     "text": [
      "dict_values(['Vera', True, 160, ['nasi padang', 'ayam bakar', 'ice cream']])\n"
     ]
    }
   ],
   "source": [
    "print(customer.values())"
   ]
  },
  {
   "cell_type": "markdown",
   "metadata": {},
   "source": [
    "# Conditional"
   ]
  },
  {
   "cell_type": "code",
   "execution_count": null,
   "metadata": {},
   "outputs": [
    {
     "name": "stdout",
     "output_type": "stream",
     "text": [
      "boleh, cukup tinggi untuk naik roller coaster\n"
     ]
    }
   ],
   "source": [
    "# apakah customer tadi bisa naik roller coaster?\n",
    "# minimal tinggi 120\n",
    "\n",
    "if (customer[\"tinggi\"] >= 120):\n",
    "    print(\"boleh, cukup tinggi untuk naik roller coaster\")"
   ]
  },
  {
   "cell_type": "code",
   "execution_count": null,
   "metadata": {},
   "outputs": [],
   "source": [
    "tinggi = 100\n",
    "\n",
    "if (tinggi >= 120):\n",
    "    print(\"boleh, cukup tinggi untuk naik roller coaster\")"
   ]
  },
  {
   "cell_type": "code",
   "execution_count": null,
   "metadata": {},
   "outputs": [
    {
     "name": "stdout",
     "output_type": "stream",
     "text": [
      "boleh, cukup tinggi untuk naik roller coaster\n",
      "(tinggi >= 120) True\n",
      "selesai\n"
     ]
    }
   ],
   "source": [
    "tinggi = 180\n",
    "\n",
    "if (tinggi >= 120):\n",
    "    print(\"boleh, cukup tinggi untuk naik roller coaster\")\n",
    "    \n",
    "    \n",
    "    \n",
    "    print(\"(tinggi >= 120) True\")\n",
    "else:\n",
    "    print(\"(tinggi >= 120) False\")\n",
    "    print(\"tidak boleh, kurang tinggi untuk naik dengan aman\")\n",
    "    \n",
    "print(\"selesai\") # di luar if, selalu jalan"
   ]
  },
  {
   "cell_type": "markdown",
   "metadata": {},
   "source": [
    "## else if"
   ]
  },
  {
   "cell_type": "code",
   "execution_count": null,
   "metadata": {},
   "outputs": [
    {
     "name": "stdout",
     "output_type": "stream",
     "text": [
      "A, nilai > 90\n"
     ]
    }
   ],
   "source": [
    "nilai = 95\n",
    "\n",
    "# ubah nilai jadi A, B atau C\n",
    "# A > 90, B > 80, C > 60\n",
    "\n",
    "if (nilai > 90):\n",
    "    print(\"A, nilai > 90\")\n",
    "elif (nilai > 80):\n",
    "    print(\"B, nilai > 80\")\n",
    "elif (nilai > 60):\n",
    "    print(\"C, nilai > 60\")\n",
    "else:\n",
    "    print(\"D, nilai 60 kebawah\")"
   ]
  },
  {
   "cell_type": "markdown",
   "metadata": {},
   "source": [
    "## ada banyak kondisi"
   ]
  },
  {
   "cell_type": "code",
   "execution_count": null,
   "metadata": {},
   "outputs": [
    {
     "name": "stdout",
     "output_type": "stream",
     "text": [
      "lulus, nilai >= 60 DAN absen >= 5\n"
     ]
    }
   ],
   "source": [
    "nilai = 100\n",
    "absen = 10\n",
    "\n",
    "# untuk lulus, minimal nilai 60, minimal absen 5\n",
    "\n",
    "if (nilai >= 60 and absen >= 5):\n",
    "    print(\"lulus, nilai >= 60 DAN absen >= 5\")\n",
    "else:\n",
    "    print(\"tidak lulus\")\n",
    "    if (absen < 5):\n",
    "        print(\"jumlah absensi kurang dari 5\")\n",
    "        \n",
    "    if (nilai < 60):\n",
    "        print(\"nilainya kurang dari 60\")"
   ]
  },
  {
   "cell_type": "code",
   "execution_count": null,
   "metadata": {},
   "outputs": [
    {
     "name": "stdout",
     "output_type": "stream",
     "text": [
      "boleh naik bom bom car\n"
     ]
    }
   ],
   "source": [
    "# untuk naik bom bom car, \n",
    "# kalau anak kecil <= 100cm gratis\n",
    "# kalau dewasa berbaya\n",
    "\n",
    "tinggi = 170\n",
    "bayar = True\n",
    "\n",
    "if (tinggi <= 100 or bayar == True):\n",
    "    print(\"boleh naik bom bom car\")\n",
    "else:\n",
    "    print(\"tinggi > 100 cm, sudah tidak grtis\")\n",
    "    print(\"belum bayar\")"
   ]
  },
  {
   "cell_type": "code",
   "execution_count": null,
   "metadata": {},
   "outputs": [
    {
     "name": "stdout",
     "output_type": "stream",
     "text": [
      "False\n",
      "False\n"
     ]
    }
   ],
   "source": [
    "bayar = False\n",
    "print(bayar)\n",
    "print(bayar == True)"
   ]
  },
  {
   "cell_type": "markdown",
   "metadata": {},
   "source": [
    "# Loop\n",
    "melakukan code yang sama berulang kali\n",
    "- while (berhenti saat kondisi False)\n",
    "- for (untuk setiap barang dalam sebuah koleksi)\n",
    "\n",
    "koleksi:\n",
    "- list\n",
    "- string\n",
    "- dictionary\n",
    "- tuple\n",
    "- range"
   ]
  },
  {
   "cell_type": "markdown",
   "metadata": {},
   "source": [
    "## while loop\n",
    "cara tulis hampir sama dengan if"
   ]
  },
  {
   "cell_type": "code",
   "execution_count": null,
   "metadata": {},
   "outputs": [
    {
     "name": "stdout",
     "output_type": "stream",
     "text": [
      "tinggi 160 cm. boleh naik bom bom car\n",
      "tinggi 161 cm. boleh naik bom bom car\n",
      "tinggi 162 cm. boleh naik bom bom car\n",
      "tinggi 163 cm. boleh naik bom bom car\n",
      "tinggi 164 cm. boleh naik bom bom car\n",
      "tinggi 165 cm. boleh naik bom bom car\n",
      "tinggi 166 cm. boleh naik bom bom car\n",
      "tinggi 167 cm. boleh naik bom bom car\n",
      "tinggi 168 cm. boleh naik bom bom car\n",
      "tinggi 169 cm. boleh naik bom bom car\n",
      "tinggi 170 cm. boleh naik bom bom car\n"
     ]
    }
   ],
   "source": [
    "tinggi = 160\n",
    "\n",
    "while (tinggi <= 170):\n",
    "    print(\"tinggi\", tinggi, \"cm. boleh naik bom bom car\")\n",
    "    tinggi = tinggi + 1"
   ]
  },
  {
   "cell_type": "markdown",
   "metadata": {},
   "source": [
    "## Infinite Loop\n",
    "loop yang jalan selamanya\n",
    "\n",
    "```python\n",
    "tinggi = 90\n",
    "\n",
    "while (tinggi <= 100):\n",
    "    print(\"tinggi\", tinggi, \"cm. boleh naik bom bom car\")\n",
    "```\n",
    "\n",
    "karena tidak ada code di dalam loop nya, yang merubah kondisi awal `(tinggi <= 100)` menjadi False, maka kondisi akan True selamanya. Selama kondisi True, loop berjalan. loop berjalan selamanya."
   ]
  },
  {
   "cell_type": "markdown",
   "metadata": {},
   "source": [
    "# For loop\n",
    "mengambil semua barang satu per satu dalam sebuah koleksi"
   ]
  },
  {
   "cell_type": "code",
   "execution_count": null,
   "metadata": {},
   "outputs": [],
   "source": [
    "list_buah = [\"anggur\", \"lemon\", \"pisang\"]"
   ]
  },
  {
   "cell_type": "code",
   "execution_count": null,
   "metadata": {},
   "outputs": [
    {
     "name": "stdout",
     "output_type": "stream",
     "text": [
      "anggur\n",
      "lemon\n",
      "pisang\n"
     ]
    }
   ],
   "source": [
    "for buah in list_buah:\n",
    "    print(buah)"
   ]
  },
  {
   "cell_type": "code",
   "execution_count": null,
   "metadata": {},
   "outputs": [
    {
     "name": "stdout",
     "output_type": "stream",
     "text": [
      "nilai ujian adalah: 82\n",
      "nilai ujian adalah: 93\n",
      "nilai ujian adalah: 54\n"
     ]
    }
   ],
   "source": [
    "for nilai in (82, 93, 54):\n",
    "    print(\"nilai ujian adalah:\", nilai)"
   ]
  },
  {
   "cell_type": "code",
   "execution_count": null,
   "metadata": {},
   "outputs": [
    {
     "name": "stdout",
     "output_type": "stream",
     "text": [
      "nama Vera\n",
      "sudah_bayar True\n",
      "tinggi 160\n",
      "makanan_kesukaan ['nasi padang', 'ayam bakar', 'ice cream']\n"
     ]
    }
   ],
   "source": [
    "for key in customer:\n",
    "    print(key, customer[key])"
   ]
  },
  {
   "cell_type": "code",
   "execution_count": null,
   "metadata": {},
   "outputs": [
    {
     "name": "stdout",
     "output_type": "stream",
     "text": [
      "Vera\n"
     ]
    }
   ],
   "source": [
    "k = \"nama\"\n",
    "print(customer[k])"
   ]
  },
  {
   "cell_type": "code",
   "execution_count": null,
   "metadata": {},
   "outputs": [
    {
     "name": "stdout",
     "output_type": "stream",
     "text": [
      "0\n",
      "1\n",
      "2\n",
      "3\n",
      "4\n",
      "5\n",
      "6\n",
      "7\n",
      "8\n",
      "9\n",
      "10\n",
      "11\n",
      "12\n",
      "13\n",
      "14\n"
     ]
    }
   ],
   "source": [
    "for count in range(15):\n",
    "    print(count)"
   ]
  },
  {
   "cell_type": "code",
   "execution_count": null,
   "metadata": {},
   "outputs": [
    {
     "name": "stdout",
     "output_type": "stream",
     "text": [
      "8\n",
      "24\n",
      "40\n",
      "56\n",
      "72\n"
     ]
    }
   ],
   "source": [
    "for count in range(8, 80, 16):\n",
    "    print(count)"
   ]
  },
  {
   "cell_type": "code",
   "execution_count": null,
   "metadata": {},
   "outputs": [
    {
     "name": "stdout",
     "output_type": "stream",
     "text": [
      "True\n"
     ]
    }
   ],
   "source": [
    "nama = \"Vera\"\n",
    "# ada huruf a atau A di dalam nama?\n",
    "print(\"a\" in nama.lower())"
   ]
  },
  {
   "cell_type": "code",
   "execution_count": null,
   "metadata": {},
   "outputs": [
    {
     "name": "stdout",
     "output_type": "stream",
     "text": [
      "True\n"
     ]
    }
   ],
   "source": [
    "print(\"a\" in nama or \"A\" in nama)"
   ]
  }
 ],
 "metadata": {
  "kernelspec": {
   "display_name": "Python 3",
   "language": "python",
   "name": "python3"
  },
  "language_info": {
   "codemirror_mode": {
    "name": "ipython",
    "version": 3
   },
   "file_extension": ".py",
   "mimetype": "text/x-python",
   "name": "python",
   "nbconvert_exporter": "python",
   "pygments_lexer": "ipython3",
   "version": "3.10.4"
  },
  "orig_nbformat": 4,
  "vscode": {
   "interpreter": {
    "hash": "4748ebf5432611de489c3fe5bb8bf4b3f26d2b619de4366a5c5abe0739cf83cb"
   }
  }
 },
 "nbformat": 4,
 "nbformat_minor": 2
}
